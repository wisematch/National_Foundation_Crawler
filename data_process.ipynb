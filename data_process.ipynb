{
 "cells": [
  {
   "cell_type": "code",
   "execution_count": 1,
   "metadata": {
    "collapsed": true,
    "ExecuteTime": {
     "end_time": "2023-11-05T09:01:26.242085700Z",
     "start_time": "2023-11-05T09:01:26.238683Z"
    }
   },
   "outputs": [],
   "source": [
    "import pandas as pd\n",
    "\n"
   ]
  },
  {
   "cell_type": "code",
   "execution_count": 2,
   "outputs": [],
   "source": [
    "data_path = r'国自然17-22_筛选.xlsx'\n",
    "output_file = 'filter_by_words.xlsx'\n",
    "dataset = pd.read_excel(data_path, sheet_name=0)\n",
    "# col_names = ['项目名(官方语言)', '立项年度']\n",
    "# df = pd.DataFrame(dataset, columns=col_names)"
   ],
   "metadata": {
    "collapsed": false,
    "ExecuteTime": {
     "end_time": "2023-11-05T09:01:39.923584800Z",
     "start_time": "2023-11-05T09:01:29.588474800Z"
    }
   }
  },
  {
   "cell_type": "code",
   "execution_count": 17,
   "outputs": [],
   "source": [
    "key_words = ['智能', '深度学习', '数据',\n",
    "             '计算', '识别', '隐私',\n",
    "             '生成', '语音', '图像',\n",
    "             '视频', '信息', '算法']"
   ],
   "metadata": {
    "collapsed": false,
    "ExecuteTime": {
     "end_time": "2023-11-04T13:46:30.308064Z",
     "start_time": "2023-11-04T13:46:30.306556600Z"
    }
   }
  },
  {
   "cell_type": "code",
   "execution_count": 17,
   "outputs": [],
   "source": [],
   "metadata": {
    "collapsed": false,
    "ExecuteTime": {
     "end_time": "2023-11-04T13:46:30.310851400Z",
     "start_time": "2023-11-04T13:46:30.309338Z"
    }
   }
  },
  {
   "cell_type": "code",
   "execution_count": 18,
   "outputs": [],
   "source": [
    "new_data = dataset[dataset['项目名(官方语言)'].str.contains('智能|深度学习|数据|计算|识别|隐私|生成|语音|图像|视频|信息|算法')]"
   ],
   "metadata": {
    "collapsed": false,
    "ExecuteTime": {
     "end_time": "2023-11-04T13:46:30.371046Z",
     "start_time": "2023-11-04T13:46:30.311851700Z"
    }
   }
  },
  {
   "cell_type": "code",
   "execution_count": 3,
   "outputs": [
    {
     "ename": "NameError",
     "evalue": "name 'new_data' is not defined",
     "output_type": "error",
     "traceback": [
      "\u001B[1;31m---------------------------------------------------------------------------\u001B[0m",
      "\u001B[1;31mNameError\u001B[0m                                 Traceback (most recent call last)",
      "Cell \u001B[1;32mIn[3], line 1\u001B[0m\n\u001B[1;32m----> 1\u001B[0m \u001B[43mnew_data\u001B[49m\u001B[38;5;241m.\u001B[39mto_excel(output_file, index\u001B[38;5;241m=\u001B[39m\u001B[38;5;28;01mFalse\u001B[39;00m, engine\u001B[38;5;241m=\u001B[39m\u001B[38;5;124m'\u001B[39m\u001B[38;5;124mopenpyxl\u001B[39m\u001B[38;5;124m'\u001B[39m)\n",
      "\u001B[1;31mNameError\u001B[0m: name 'new_data' is not defined"
     ]
    }
   ],
   "source": [
    "new_data.to_excel(output_file, index=False, engine='openpyxl')\n"
   ],
   "metadata": {
    "collapsed": false,
    "ExecuteTime": {
     "end_time": "2023-11-05T09:01:40.261396900Z",
     "start_time": "2023-11-05T09:01:39.923584800Z"
    }
   }
  },
  {
   "cell_type": "code",
   "execution_count": 6,
   "outputs": [],
   "source": [
    "output_file_2 = 'filter_by_words_2.xlsx'\n",
    "new_data_2 = dataset[dataset['项目名(官方语言)'].str.contains('人工智能|深度学习|大数据|类脑|隐私|计算机视觉|扩散模型|对抗网络|生成对抗|联邦学习|大模型|AIGC|自然语言|可解释性|无监督|自监督|半监督|机器学习|多模态|强化学习|知识图谱|情感分析|神经网络|数字孪生')]\n"
   ],
   "metadata": {
    "collapsed": false,
    "ExecuteTime": {
     "end_time": "2023-11-05T09:05:57.458328700Z",
     "start_time": "2023-11-05T09:05:57.404047900Z"
    }
   }
  },
  {
   "cell_type": "code",
   "execution_count": 8,
   "outputs": [],
   "source": [
    "new_data_2.to_excel(output_file_2, index=False, engine='openpyxl')\n"
   ],
   "metadata": {
    "collapsed": false,
    "ExecuteTime": {
     "end_time": "2023-11-05T09:06:07.543822500Z",
     "start_time": "2023-11-05T09:06:06.916639800Z"
    }
   }
  },
  {
   "cell_type": "code",
   "execution_count": null,
   "outputs": [],
   "source": [],
   "metadata": {
    "collapsed": false
   }
  }
 ],
 "metadata": {
  "kernelspec": {
   "display_name": "Python 3",
   "language": "python",
   "name": "python3"
  },
  "language_info": {
   "codemirror_mode": {
    "name": "ipython",
    "version": 2
   },
   "file_extension": ".py",
   "mimetype": "text/x-python",
   "name": "python",
   "nbconvert_exporter": "python",
   "pygments_lexer": "ipython2",
   "version": "2.7.6"
  }
 },
 "nbformat": 4,
 "nbformat_minor": 0
}
